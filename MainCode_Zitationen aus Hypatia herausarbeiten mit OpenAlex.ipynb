{
 "cells": [
  {
   "cell_type": "markdown",
   "metadata": {},
   "source": [
    "# Imports"
   ]
  },
  {
   "cell_type": "code",
   "execution_count": 22,
   "metadata": {},
   "outputs": [],
   "source": [
    "# Imports für ersten Teil:\n",
    "import requests\n",
    "import pandas as pd\n",
    "from tqdm import tqdm\n",
    "import time\n",
    "\n",
    "# Imports für zweiten Teil:\n",
    "import requests\n",
    "import json\n",
    "import time\n",
    "from tqdm import tqdm"
   ]
  },
  {
   "cell_type": "markdown",
   "metadata": {},
   "source": [
    "# Erster Teil:\n",
    "## Zitationen mithilfe der Metadaten von 'Dataset Builder' aus OpenAlex herausarbeiten\n",
    "\n",
    "<br>\n",
    "Ausgabedatei:\n",
    "<br>\n",
    "- zitationsdaten_hypatia_openalex_2017-2018.json mit Informationen zu Autoren, Titel und Referenzen (openAlex-URL) aller gefundenen Artikel aus der Zeitschrift Hypatia zwischen 2017 und 2018\n",
    "<br>\n",
    "- fehlerhafte_titel.txt: Alle nicht in OpenAlex gefundenen Zeitschriften aus diesem Zeitraum"
   ]
  },
  {
   "cell_type": "code",
   "execution_count": 2,
   "metadata": {},
   "outputs": [
    {
     "name": "stderr",
     "output_type": "stream",
     "text": [
      "🔍 Suche Artikel in OpenAlex:   1%|▍                                                   | 1/132 [00:01<03:29,  1.60s/it]"
     ]
    },
    {
     "name": "stdout",
     "output_type": "stream",
     "text": [
      "❌ Fehlerhafte Anfrage: Philosophy's Folds: Seneca, Cavarero, and the History of Rectitude\n"
     ]
    },
    {
     "name": "stderr",
     "output_type": "stream",
     "text": [
      "\r",
      "🔍 Suche Artikel in OpenAlex:   2%|▊                                                   | 2/132 [00:03<03:26,  1.59s/it]"
     ]
    },
    {
     "name": "stdout",
     "output_type": "stream",
     "text": [
      "❌ Fehlerhafte Anfrage: The \"Bio\" Politics of Matter and Mattering for Feminist Engagements with Biosocial, Biocultural, and Posthuman Embodiment\n"
     ]
    },
    {
     "name": "stderr",
     "output_type": "stream",
     "text": [
      "🔍 Suche Artikel in OpenAlex:   8%|████▎                                              | 11/132 [00:17<03:05,  1.54s/it]"
     ]
    },
    {
     "name": "stdout",
     "output_type": "stream",
     "text": [
      "❌ Fehlerhafte Anfrage: Remembering and Loving in Relationships Involving Dying, Death, and Grief\n"
     ]
    },
    {
     "name": "stderr",
     "output_type": "stream",
     "text": [
      "\r",
      "🔍 Suche Artikel in OpenAlex:   9%|████▋                                              | 12/132 [00:18<03:02,  1.52s/it]"
     ]
    },
    {
     "name": "stdout",
     "output_type": "stream",
     "text": [
      "❌ Fehlerhafte Anfrage: Why Love Kills: Power, Gender Dichotomy, and Romantic Femicide\n"
     ]
    },
    {
     "name": "stderr",
     "output_type": "stream",
     "text": [
      "\r",
      "🔍 Suche Artikel in OpenAlex:  10%|█████                                              | 13/132 [00:20<03:01,  1.52s/it]"
     ]
    },
    {
     "name": "stdout",
     "output_type": "stream",
     "text": [
      "❌ Fehlerhafte Anfrage: Work the Root: Black Feminism, Hoodoo Love Rituals, and Practices of Freedom\n"
     ]
    },
    {
     "name": "stderr",
     "output_type": "stream",
     "text": [
      "🔍 Suche Artikel in OpenAlex:  20%|██████████                                         | 26/132 [00:40<02:45,  1.56s/it]"
     ]
    },
    {
     "name": "stdout",
     "output_type": "stream",
     "text": [
      "❌ Fehlerhafte Anfrage: The Secularity of Empire, the Violence of Critique: Muslims, Race, and Sexuality in the Politics of Knowledge-Production\n"
     ]
    },
    {
     "name": "stderr",
     "output_type": "stream",
     "text": [
      "🔍 Suche Artikel in OpenAlex:  32%|████████████████▏                                  | 42/132 [01:05<02:17,  1.53s/it]"
     ]
    },
    {
     "name": "stdout",
     "output_type": "stream",
     "text": [
      "❌ Fehlerhafte Anfrage: Gender, Shame, and the Pantsuit\n"
     ]
    },
    {
     "name": "stderr",
     "output_type": "stream",
     "text": [
      "🔍 Suche Artikel in OpenAlex:  34%|█████████████████▍                                 | 45/132 [01:09<02:15,  1.56s/it]"
     ]
    },
    {
     "name": "stdout",
     "output_type": "stream",
     "text": [
      "❌ Fehlerhafte Anfrage: Marriage in Kumasi, Ghana: Locally Emergent Practices in the Colonial/Modern Gender System\n"
     ]
    },
    {
     "name": "stderr",
     "output_type": "stream",
     "text": [
      "🔍 Suche Artikel in OpenAlex:  36%|██████████████████▌                                | 48/132 [01:14<02:13,  1.59s/it]"
     ]
    },
    {
     "name": "stdout",
     "output_type": "stream",
     "text": [
      "❌ Fehlerhafte Anfrage: Structural Violence, Intersectionality, and \"Justpeace\": Evaluating Women's Peacebuilding Agency in Manipur, India\n"
     ]
    },
    {
     "name": "stderr",
     "output_type": "stream",
     "text": [
      "🔍 Suche Artikel in OpenAlex:  38%|███████████████████▎                               | 50/132 [01:17<02:07,  1.56s/it]"
     ]
    },
    {
     "name": "stdout",
     "output_type": "stream",
     "text": [
      "❌ Fehlerhafte Anfrage: Mother Love, Maternal Ambivalence, and the Possibility of Empowered Mothering\n"
     ]
    },
    {
     "name": "stderr",
     "output_type": "stream",
     "text": [
      "🔍 Suche Artikel in OpenAlex:  39%|████████████████████                               | 52/132 [01:20<02:05,  1.56s/it]"
     ]
    },
    {
     "name": "stdout",
     "output_type": "stream",
     "text": [
      "❌ Fehlerhafte Anfrage: Personal Autonomy, Social Identity, and Oppressive Social Contexts\n"
     ]
    },
    {
     "name": "stderr",
     "output_type": "stream",
     "text": [
      "🔍 Suche Artikel in OpenAlex:  41%|████████████████████▊                              | 54/132 [01:23<02:00,  1.55s/it]"
     ]
    },
    {
     "name": "stdout",
     "output_type": "stream",
     "text": [
      "❌ Fehlerhafte Anfrage: Eudaimonism, Human Nature, and the Burdened Virtues\n"
     ]
    },
    {
     "name": "stderr",
     "output_type": "stream",
     "text": [
      "\r",
      "🔍 Suche Artikel in OpenAlex:  42%|█████████████████████▎                             | 55/132 [01:25<01:59,  1.56s/it]"
     ]
    },
    {
     "name": "stdout",
     "output_type": "stream",
     "text": [
      "❌ Fehlerhafte Anfrage: Corrigendum: A Call for Healing: Transphobia, Homophobia, and Historical Trauma in Filipina/o/x American Activist Organizations\n"
     ]
    },
    {
     "name": "stderr",
     "output_type": "stream",
     "text": [
      "🔍 Suche Artikel in OpenAlex:  55%|████████████████████████████▏                      | 73/132 [01:53<01:33,  1.58s/it]"
     ]
    },
    {
     "name": "stdout",
     "output_type": "stream",
     "text": [
      "❌ Fehlerhafte Anfrage: Beauvoir on the Lived Experience of Politics, Time, and Sex\n"
     ]
    },
    {
     "name": "stderr",
     "output_type": "stream",
     "text": [
      "\r",
      "🔍 Suche Artikel in OpenAlex:  56%|████████████████████████████▌                      | 74/132 [01:55<01:32,  1.60s/it]"
     ]
    },
    {
     "name": "stdout",
     "output_type": "stream",
     "text": [
      "❌ Fehlerhafte Anfrage: Survivors, Liars, and Unfit Minds: Rhetorical Impossibility and Rape Trauma Disclosure\n"
     ]
    },
    {
     "name": "stderr",
     "output_type": "stream",
     "text": [
      "\r",
      "🔍 Suche Artikel in OpenAlex:  57%|████████████████████████████▉                      | 75/132 [01:56<01:30,  1.59s/it]"
     ]
    },
    {
     "name": "stdout",
     "output_type": "stream",
     "text": [
      "❌ Fehlerhafte Anfrage: Feminism, Capitalism, and Ecology\n"
     ]
    },
    {
     "name": "stderr",
     "output_type": "stream",
     "text": [
      "🔍 Suche Artikel in OpenAlex:  59%|██████████████████████████████▏                    | 78/132 [02:01<01:25,  1.58s/it]"
     ]
    },
    {
     "name": "stdout",
     "output_type": "stream",
     "text": [
      "❌ Fehlerhafte Anfrage: Revealing Ireland's \"Proper\" Heart: Apology, Shame, Nation\n"
     ]
    },
    {
     "name": "stderr",
     "output_type": "stream",
     "text": [
      "🔍 Suche Artikel in OpenAlex:  64%|████████████████████████████████▍                  | 84/132 [02:11<01:14,  1.55s/it]"
     ]
    },
    {
     "name": "stdout",
     "output_type": "stream",
     "text": [
      "❌ Fehlerhafte Anfrage: Collective Love as Public Freedom: Dancing Resistance. Ehrenreich, Arendt, Kristeva, and \"Idle No More\"\n"
     ]
    },
    {
     "name": "stderr",
     "output_type": "stream",
     "text": [
      "🔍 Suche Artikel in OpenAlex:  66%|█████████████████████████████████▌                 | 87/132 [02:15<01:08,  1.53s/it]"
     ]
    },
    {
     "name": "stdout",
     "output_type": "stream",
     "text": [
      "❌ Fehlerhafte Anfrage: Shatter Not the Branches of the Tree of Anger: Mothering, Affect, and Disability\n"
     ]
    },
    {
     "name": "stderr",
     "output_type": "stream",
     "text": [
      "🔍 Suche Artikel in OpenAlex:  70%|███████████████████████████████████▉               | 93/132 [02:24<01:00,  1.56s/it]"
     ]
    },
    {
     "name": "stdout",
     "output_type": "stream",
     "text": [
      "❌ Fehlerhafte Anfrage: Resisting the Logic of Ambivalence: Bad Faith as Subversive, Anticolonial Practice\n"
     ]
    },
    {
     "name": "stderr",
     "output_type": "stream",
     "text": [
      "🔍 Suche Artikel in OpenAlex:  75%|██████████████████████████████████████▎            | 99/132 [02:34<00:54,  1.64s/it]"
     ]
    },
    {
     "name": "stdout",
     "output_type": "stream",
     "text": [
      "❌ Fehlerhafte Anfrage: Femininity, Shame, and Redemption\n"
     ]
    },
    {
     "name": "stderr",
     "output_type": "stream",
     "text": [
      "🔍 Suche Artikel in OpenAlex:  78%|███████████████████████████████████████           | 103/132 [02:41<00:46,  1.61s/it]"
     ]
    },
    {
     "name": "stdout",
     "output_type": "stream",
     "text": [
      "❌ Fehlerhafte Anfrage: \"Four Women of Egypt\": Memory, Geopolitics, and the Egyptian Women's Movement during the Nasser and Sadat Eras\n"
     ]
    },
    {
     "name": "stderr",
     "output_type": "stream",
     "text": [
      "🔍 Suche Artikel in OpenAlex:  84%|██████████████████████████████████████████        | 111/132 [02:53<00:32,  1.53s/it]"
     ]
    },
    {
     "name": "stdout",
     "output_type": "stream",
     "text": [
      "❌ Fehlerhafte Anfrage: A Call for Healing: Transphobia, Homophobia, and Historical Trauma in Filipina/o/x American Activist Organizations\n"
     ]
    },
    {
     "name": "stderr",
     "output_type": "stream",
     "text": [
      "\r",
      "🔍 Suche Artikel in OpenAlex:  85%|██████████████████████████████████████████▍       | 112/132 [02:54<00:30,  1.54s/it]"
     ]
    },
    {
     "name": "stdout",
     "output_type": "stream",
     "text": [
      "❌ Fehlerhafte Anfrage: Woman-Hating: On Misogyny, Sexism, and Hate Speech\n"
     ]
    },
    {
     "name": "stderr",
     "output_type": "stream",
     "text": [
      "🔍 Suche Artikel in OpenAlex:  87%|███████████████████████████████████████████▌      | 115/132 [02:59<00:26,  1.54s/it]"
     ]
    },
    {
     "name": "stdout",
     "output_type": "stream",
     "text": [
      "❌ Fehlerhafte Anfrage: Silence, Silencing, and (In)Visibility: The Geopolitics of Tehran's Silent Protests\n"
     ]
    },
    {
     "name": "stderr",
     "output_type": "stream",
     "text": [
      "\r",
      "🔍 Suche Artikel in OpenAlex:  88%|███████████████████████████████████████████▉      | 116/132 [03:01<00:24,  1.55s/it]"
     ]
    },
    {
     "name": "stdout",
     "output_type": "stream",
     "text": [
      "❌ Fehlerhafte Anfrage: What an [En]tangled Web We Weave: Emotions, Motivation, and Rethinking Us and the \"Other\"\n"
     ]
    },
    {
     "name": "stderr",
     "output_type": "stream",
     "text": [
      "🔍 Suche Artikel in OpenAlex:  93%|██████████████████████████████████████████████▌   | 123/132 [03:11<00:13,  1.54s/it]"
     ]
    },
    {
     "name": "stdout",
     "output_type": "stream",
     "text": [
      "❌ Fehlerhafte Anfrage: The Hidden Labors of Mary Mottley, Madame de Tocqueville\n"
     ]
    },
    {
     "name": "stderr",
     "output_type": "stream",
     "text": [
      "🔍 Suche Artikel in OpenAlex:  95%|███████████████████████████████████████████████▎  | 125/132 [03:14<00:10,  1.53s/it]"
     ]
    },
    {
     "name": "stdout",
     "output_type": "stream",
     "text": [
      "❌ Fehlerhafte Anfrage: \"Everything Being Tangled Up in Every Other Thing\": Class, Desire, and Shame in Michelle Tea's \"The Passionate Mistakes and Intricate Corruption of One Girl in America\"\n"
     ]
    },
    {
     "name": "stderr",
     "output_type": "stream",
     "text": [
      "🔍 Suche Artikel in OpenAlex:  99%|█████████████████████████████████████████████████▌| 131/132 [03:24<00:01,  1.53s/it]"
     ]
    },
    {
     "name": "stdout",
     "output_type": "stream",
     "text": [
      "❌ Fehlerhafte Anfrage: The Role of Darwin in Elizabeth Grosz's Deleuzian Feminist Theory: Sexual Difference, Ontology, and Intervention\n"
     ]
    },
    {
     "name": "stderr",
     "output_type": "stream",
     "text": [
      "🔍 Suche Artikel in OpenAlex: 100%|██████████████████████████████████████████████████| 132/132 [03:25<00:00,  1.56s/it]"
     ]
    },
    {
     "name": "stdout",
     "output_type": "stream",
     "text": [
      "\n",
      "✅ Fertig! 103 Einträge erfolgreich gespeichert.\n",
      "⚠️ 29 Titel konnten nicht gefunden werden – siehe 'fehlerhafte_titel.txt'\n"
     ]
    },
    {
     "name": "stderr",
     "output_type": "stream",
     "text": [
      "\n"
     ]
    }
   ],
   "source": [
    "# CSV mit Metadaten laden\n",
    "df = pd.read_csv(\"./hypatia_metadaten_2017-2018.csv\")\n",
    "titel_liste = df['title'].dropna().tolist()\n",
    "\n",
    "zitationsdaten = []\n",
    "fehlerhafte_titel = []  # hier werden problematische Titel gespeichert\n",
    "\n",
    "base_url = \"https://api.openalex.org/works\"\n",
    "\n",
    "# Für jeden Titel in der Liste\n",
    "for titel in tqdm(titel_liste, desc=\"🔍 Suche Artikel in OpenAlex\"):\n",
    "    try: # Suche Titel in OpenAlex\n",
    "        params = {\n",
    "            \"filter\": f\"title.search:{titel}\",\n",
    "            \"per-page\": 1\n",
    "        }\n",
    "        response = requests.get(base_url, params=params) # OpenAlex Anfrage\n",
    "        if response.status_code == 200: # Wenn Website richtig reagiert\n",
    "            ergebnis = response.json() # Ergebnisanfrage in json formatieren\n",
    "            if ergebnis.get(\"results\"): # Wenn in ergebnis etwas ist\n",
    "                paper = ergebnis[\"results\"][0] # paper ist erstes Ergebnis in OpenAlex\n",
    "                \n",
    "                # Informationen für Suchergebnis in eintrag speichern\n",
    "                eintrag = {\n",
    "                    \"OriginalTitle\": titel,\n",
    "                    \"GefundenerTitel\": paper.get(\"title\"),\n",
    "                    \"Jahr\": paper.get(\"publication_year\"),\n",
    "                    \"Autoren\": [a[\"author\"][\"display_name\"] for a in paper.get(\"authorships\", [])],\n",
    "                    \"Anzahl_Zitationen\": paper.get(\"cited_by_count\"),\n",
    "                    \"Anzahl_Referenzen\": len(paper.get(\"referenced_works\", [])),\n",
    "                    \"Referenzen\": paper.get(\"referenced_works\", []),\n",
    "                    \"DOI\": paper.get(\"doi\"),\n",
    "                    \"OpenAlex_ID\": paper.get(\"id\")\n",
    "                }\n",
    "\n",
    "                zitationsdaten.append(eintrag) # eintrag in zitationsdaten speichern\n",
    "            else:\n",
    "                print(f\"❌ Kein Treffer für: {titel}\")\n",
    "                fehlerhafte_titel.append(titel)\n",
    "        else:\n",
    "            print(f\"❌ Fehlerhafte Anfrage: {titel}\")\n",
    "            fehlerhafte_titel.append(titel)\n",
    "        time.sleep(1)\n",
    "    except Exception as e:\n",
    "        print(f\"⚠️ Ausnahme bei Titel: {titel}\\n{e}\")\n",
    "        fehlerhafte_titel.append(titel)\n",
    "        time.sleep(2)\n",
    "\n",
    "# Ergebnis speichern\n",
    "zitations_df = pd.DataFrame(zitationsdaten)\n",
    "zitations_df.to_json(\"zitationsdaten_hypatia_openalex_2017-2018.json\", orient=\"records\", indent=2)\n",
    "\n",
    "# Fehlerhafte Titel speichern\n",
    "with open(\"fehlerhafte_titel.txt\", \"w\", encoding=\"utf-8\") as f:\n",
    "    for t in fehlerhafte_titel:\n",
    "        f.write(t + \"\\n\")\n",
    "\n",
    "print(f\"\\n✅ Fertig! {len(zitationsdaten)} Einträge erfolgreich gespeichert.\") # Anzahl an erfolgreich gespeicherten Artikeln\n",
    "print(f\"⚠️ {len(fehlerhafte_titel)} Titel konnten nicht gefunden werden – siehe 'fehlerhafte_titel.txt'\") # Anzahl an nicht gefundenen Artikeln\n",
    "\n"
   ]
  },
  {
   "cell_type": "markdown",
   "metadata": {},
   "source": [
    "# Zweiter Teil\n",
    "## Namen der Referenzen herausarbeiten\n",
    "(Läuft wegen der Menge an Referenzen etwas länger.)\n",
    "\n",
    "<br>\n",
    "Ausgabedatei:\n",
    "- referenz_autoren.json: Alle in Hypatia referenzierten Titel mit Informationen zu OpenAlex-URL, Titel, Jahr und AutorInnen"
   ]
  },
  {
   "cell_type": "code",
   "execution_count": 5,
   "metadata": {},
   "outputs": [
    {
     "name": "stderr",
     "output_type": "stream",
     "text": [
      "Hole Referenzdaten von OpenAlex: 100%|█████████████████████████████████████████████| 2006/2006 [20:15<00:00,  1.65it/s]"
     ]
    },
    {
     "name": "stdout",
     "output_type": "stream",
     "text": [
      "✅ Referenzdaten wurden gespeichert in 'referenz_autoren.json'\n"
     ]
    },
    {
     "name": "stderr",
     "output_type": "stream",
     "text": [
      "\n"
     ]
    }
   ],
   "source": [
    "# Lade die Liste deiner Referenz-URLs oder -IDs\n",
    "with open(\"zitationsdaten_hypatia_openalex_2017-2018.json\", \"r\", encoding=\"utf-8\") as f:\n",
    "    daten = json.load(f)\n",
    "\n",
    "# Alle eindeutigen Referenz-IDs sammeln\n",
    "referenz_ids= set()\n",
    "for eintrag in daten:\n",
    "    referenz_ids.update(eintrag.get(\"Referenzen\", []))\n",
    "\n",
    "# Datenstruktur für Ergebnisse\n",
    "referenz_infos = {}\n",
    "\n",
    "# Nach drei Versuchen zum nächsten skippen\n",
    "MAX_RETRIES = 3\n",
    "\n",
    "# Hauptloop über alle Referenz-IDs\n",
    "for rid in tqdm(referenz_ids, desc=\"Hole Referenzdaten von OpenAlex\"):\n",
    "    # Extrahiere die ID z. B. \"W1234567890\" aus URL\n",
    "    if rid.startswith(\"https://openalex.org/\"):\n",
    "        work_id = rid.split(\"/\")[-1]\n",
    "    else:\n",
    "        work_id = rid\n",
    "\n",
    "    # Baue API-URL korrekt\n",
    "    api_url = f\"https://api.openalex.org/works/{work_id}\"\n",
    "\n",
    "    for attempt in range(MAX_RETRIES):\n",
    "        try:\n",
    "            response = requests.get(api_url)\n",
    "\n",
    "            # Erfolgreiche und nicht-leere Antwort\n",
    "            if response.status_code == 200 and response.content.strip():\n",
    "                paper = response.json()\n",
    "                autoren = [a[\"author\"][\"display_name\"] for a in paper.get(\"authorships\", [])]\n",
    "\n",
    "                referenz_infos[rid] = {\n",
    "                    \"title\": paper.get(\"title\"),\n",
    "                    \"authors\": autoren,\n",
    "                    \"year\": paper.get(\"publication_year\")\n",
    "                }\n",
    "                break  # fertig, weiter zur nächsten ID\n",
    "            else:\n",
    "                time.sleep(2)\n",
    "\n",
    "        except Exception as e:\n",
    "            if attempt == MAX_RETRIES - 1:\n",
    "                referenz_infos[rid] = {\"error\": str(e)}\n",
    "            time.sleep(2)\n",
    "\n",
    "# Speichere alle Daten\n",
    "with open(\"referenz_autoren.json\", \"w\", encoding=\"utf-8\") as f:\n",
    "    json.dump(referenz_infos, f, indent=2, ensure_ascii=False)\n",
    "\n",
    "print(\"✅ Referenzdaten wurden gespeichert in 'referenz_autoren.json'\")\n"
   ]
  },
  {
   "cell_type": "markdown",
   "metadata": {},
   "source": [
    "### Ergebnisstruktur der Daten in 'referenz-autoren.json': "
   ]
  },
  {
   "cell_type": "markdown",
   "metadata": {},
   "source": [
    "\"https://openalex.org/W2052757464\": {\n",
    "    \"title\": \"The Moral Sex: Woman's Nature in the French Enlightenment\",\n",
    "    \"authors\": [\n",
    "      \"Londa Schiebinger\",\n",
    "      \"Lieselotte Steinbrügge\",\n",
    "      \"Pamela E. Selwyn\"\n",
    "    ],\n",
    "    \"year\": 1995\n",
    "  },"
   ]
  },
  {
   "cell_type": "code",
   "execution_count": null,
   "metadata": {},
   "outputs": [],
   "source": []
  }
 ],
 "metadata": {
  "kernelspec": {
   "display_name": "Python 3",
   "language": "python",
   "name": "python3"
  },
  "language_info": {
   "codemirror_mode": {
    "name": "ipython",
    "version": 3
   },
   "file_extension": ".py",
   "mimetype": "text/x-python",
   "name": "python",
   "nbconvert_exporter": "python",
   "pygments_lexer": "ipython3",
   "version": "3.8.3"
  }
 },
 "nbformat": 4,
 "nbformat_minor": 4
}
